{
 "cells": [
  {
   "cell_type": "code",
   "execution_count": 1,
   "metadata": {},
   "outputs": [],
   "source": [
    "from pyspark.sql import SparkSession\n",
    "\n",
    "from pyspark.sql.functions import col\n",
    "from pyspark.sql.functions import stddev\n",
    "from pyspark.sql.functions import sum\n",
    "from pyspark.sql.functions import abs, col\n",
    "from pyspark.sql.functions import avg\n",
    "from pyspark.sql.functions import length, col\n"
   ]
  },
  {
   "cell_type": "code",
   "execution_count": 2,
   "metadata": {},
   "outputs": [],
   "source": [
    "spark = (SparkSession.builder\n",
    "        .appName(\"trabalho_pratico\")\n",
    "        .getOrCreate())"
   ]
  },
  {
   "cell_type": "code",
   "execution_count": 3,
   "metadata": {},
   "outputs": [],
   "source": [
    "data = spark.sparkContext.textFile(\"F:/Documentos/0.XP EDUCACAO\\Módulo 2 - Bootcamp cientista de Dados/00.Trabalho prático/all_stocks_5yr.csv\")"
   ]
  },
  {
   "cell_type": "code",
   "execution_count": 4,
   "metadata": {},
   "outputs": [
    {
     "name": "stdout",
     "output_type": "stream",
     "text": [
      "619041\n"
     ]
    }
   ],
   "source": [
    "#Quantos registros há na planilha?\n",
    "\n",
    "print(data.count())"
   ]
  },
  {
   "cell_type": "code",
   "execution_count": 5,
   "metadata": {},
   "outputs": [
    {
     "name": "stdout",
     "output_type": "stream",
     "text": [
      "+----------+-----+-----+-----+-----+--------+----+\n",
      "|      date| open| high|  low|close|  volume|Name|\n",
      "+----------+-----+-----+-----+-----+--------+----+\n",
      "|2013-02-08|15.07|15.12|14.63|14.75| 8407500| AAL|\n",
      "|2013-02-11|14.89|15.01|14.26|14.46| 8882000| AAL|\n",
      "|2013-02-12|14.45|14.51| 14.1|14.27| 8126000| AAL|\n",
      "|2013-02-13| 14.3|14.94|14.25|14.66|10259500| AAL|\n",
      "|2013-02-14|14.94|14.96|13.16|13.99|31879900| AAL|\n",
      "|2013-02-15|13.93|14.61|13.93| 14.5|15628000| AAL|\n",
      "|2013-02-19|14.33|14.56|14.08|14.26|11354400| AAL|\n",
      "|2013-02-20|14.17|14.26|13.15|13.33|14725200| AAL|\n",
      "|2013-02-21|13.62|13.95| 12.9|13.37|11922100| AAL|\n",
      "|2013-02-22|13.57| 13.6|13.21|13.57| 6071400| AAL|\n",
      "|2013-02-25| 13.6|13.76| 13.0|13.02| 7186400| AAL|\n",
      "|2013-02-26|13.14|13.42| 12.7|13.26| 9419000| AAL|\n",
      "|2013-02-27|13.28|13.62|13.18|13.41| 7390500| AAL|\n",
      "|2013-02-28|13.49|13.63|13.39|13.43| 6143600| AAL|\n",
      "|2013-03-01|13.37|13.95|13.32|13.61| 7376800| AAL|\n",
      "|2013-03-04| 13.5|14.07|13.47| 13.9| 8174800| AAL|\n",
      "|2013-03-05|14.01|14.05|13.71|14.05| 7676100| AAL|\n",
      "|2013-03-06|14.52|14.68|14.25|14.57|13243200| AAL|\n",
      "|2013-03-07| 14.7|14.93| 14.5|14.82| 9125300| AAL|\n",
      "|2013-03-08|14.99| 15.2|14.84|14.92|10593700| AAL|\n",
      "+----------+-----+-----+-----+-----+--------+----+\n",
      "only showing top 20 rows\n",
      "\n"
     ]
    }
   ],
   "source": [
    "# criando df\n",
    "\n",
    "data_df = spark.read.csv(data, header=True, inferSchema= True)\n",
    "data_df.show()"
   ]
  },
  {
   "cell_type": "code",
   "execution_count": 6,
   "metadata": {},
   "outputs": [
    {
     "name": "stdout",
     "output_type": "stream",
     "text": [
      "1259\n"
     ]
    }
   ],
   "source": [
    "# Quantos registros há na planilha para a ação da Apple (AAPL)?\n",
    "\n",
    "Apple = data_df.filter(data_df.Name == \"AAPL\")\n",
    "\n",
    "print(Apple.count())"
   ]
  },
  {
   "cell_type": "code",
   "execution_count": 7,
   "metadata": {},
   "outputs": [
    {
     "data": {
      "text/plain": [
       "505"
      ]
     },
     "execution_count": 7,
     "metadata": {},
     "output_type": "execute_result"
    }
   ],
   "source": [
    "# Quantas empresas distintas têm registros nessa planilha?\n",
    "\n",
    "distinto = data_df.select(\"Name\").distinct()\n",
    "\n",
    "distinto.count()"
   ]
  },
  {
   "cell_type": "code",
   "execution_count": 8,
   "metadata": {},
   "outputs": [
    {
     "name": "stdout",
     "output_type": "stream",
     "text": [
      "51.52647401383753\n"
     ]
    }
   ],
   "source": [
    "# Com qual frequência o preço de uma ação no fechamento é maior do que o preço na abertura?\n",
    "\n",
    "fechamento_maior = data_df.filter(col(\"close\") > col(\"open\")).count()\n",
    "perc_fechamento_maior = (fechamento_maior / data.count()) * 100\n",
    "\n",
    "print(perc_fechamento_maior)\n"
   ]
  },
  {
   "cell_type": "code",
   "execution_count": 9,
   "metadata": {},
   "outputs": [
    {
     "name": "stdout",
     "output_type": "stream",
     "text": [
      "180.1\n"
     ]
    }
   ],
   "source": [
    "# Qual o maior valor das ações da Apple (AAPL) na história?\n",
    "\n",
    "maior_valor_apple = Apple.agg({\"high\": \"max\"}).collect()[0][0]\n",
    "\n",
    "print(maior_valor_apple)"
   ]
  },
  {
   "cell_type": "code",
   "execution_count": 10,
   "metadata": {},
   "outputs": [
    {
     "name": "stdout",
     "output_type": "stream",
     "text": [
      "PCLN\n"
     ]
    }
   ],
   "source": [
    "# Qual ação tem a maior volatilidade? Uma forma é medir o desvio-padrão do preço de fechamento de cada ação e considerar a ação de maior desvio-padrão.\n",
    "\n",
    "# agg para realizar a agregação dos dados nos grupos criados.\n",
    "# O stddev é uma função que calcula o desvio-padrão dos valores\n",
    "\n",
    "desvio_padrao_por_acao = data_df.groupBy(\"Name\").agg(stddev(\"close\").alias(\"desvio_padrao\"))\n",
    "\n",
    "acao_com_maior_volatilidade = desvio_padrao_por_acao.orderBy(\"desvio_padrao\", ascending=False).first()\n",
    "\n",
    "nome_da_acao_mais_volatil = acao_com_maior_volatilidade[\"Name\"]\n",
    "desvio_padrao_maior_volatilidade = acao_com_maior_volatilidade[\"desvio_padrao\"]\n",
    "\n",
    "print(nome_da_acao_mais_volatil)\n"
   ]
  },
  {
   "cell_type": "code",
   "execution_count": 11,
   "metadata": {},
   "outputs": [
    {
     "name": "stdout",
     "output_type": "stream",
     "text": [
      "Row(date=datetime.date(2015, 8, 24), Qtd=4607945196)\n"
     ]
    }
   ],
   "source": [
    "# Qual o dia com maior volume total de negociação da bolsa?\n",
    "\n",
    "group_data = data_df.groupBy(\"date\").agg(sum(\"volume\").alias(\"Qtd\"))\n",
    "\n",
    "ordenacao_agrup = group_data.orderBy(\"Qtd\", ascending=False).first()\n",
    "\n",
    "print(ordenacao_agrup)"
   ]
  },
  {
   "cell_type": "code",
   "execution_count": 12,
   "metadata": {},
   "outputs": [
    {
     "name": "stdout",
     "output_type": "stream",
     "text": [
      "Row(Name='BAC', Qtd=117884953591)\n"
     ]
    }
   ],
   "source": [
    "# Qual a ação mais negociada da bolsa, em volume de transações? \n",
    "\n",
    "group_data = data_df.groupBy(\"Name\").agg(sum(\"volume\").alias(\"Qtd\"))\n",
    "\n",
    "ordenacao_agrup = group_data.orderBy(\"Qtd\", ascending=False).first()\n",
    "\n",
    "print(ordenacao_agrup)"
   ]
  },
  {
   "cell_type": "code",
   "execution_count": 13,
   "metadata": {},
   "outputs": [
    {
     "name": "stdout",
     "output_type": "stream",
     "text": [
      "72870\n"
     ]
    }
   ],
   "source": [
    "# Quantas ações começam com a letra “A”?\n",
    "\n",
    "acoes_com_a = data_df.filter(col(\"Name\").startswith(\"A\")).count()\n",
    "\n",
    "print(acoes_com_a)"
   ]
  },
  {
   "cell_type": "code",
   "execution_count": 14,
   "metadata": {},
   "outputs": [
    {
     "name": "stdout",
     "output_type": "stream",
     "text": [
      "1.1986282007169153\n"
     ]
    }
   ],
   "source": [
    "# Com qual frequência o preço mais alto do dia da ação também é o preço de fechamento?\n",
    "\n",
    "maior_close = data_df.filter(col(\"high\") == col(\"close\")).count()\n",
    "perc_fechamento_maior = (maior_close / data.count()) * 100\n",
    "\n",
    "print(perc_fechamento_maior)\n"
   ]
  },
  {
   "cell_type": "code",
   "execution_count": 15,
   "metadata": {},
   "outputs": [
    {
     "name": "stdout",
     "output_type": "stream",
     "text": [
      "Row(date=datetime.date(2015, 8, 24), open=94.87, high=108.8, low=92.0, close=103.12, volume=162206292, Name='AAPL', diferenca_absoluta=8.25)\n"
     ]
    }
   ],
   "source": [
    "# Em qual dia a ação da Apple mais subiu entre a abertura e o fechamento, de forma absoluta?\n",
    "\n",
    "apple_df = data_df.filter(col(\"Name\") == \"AAPL\")\n",
    "\n",
    "\n",
    "# Calcular a diferença absoluta entre as colunas \"open\" e \"close\"\n",
    "apple_df = apple_df.withColumn(\"diferenca_absoluta\", abs(col(\"open\") - col(\"close\")))\n",
    "\n",
    "dia_maior_variacao = apple_df.orderBy(\"diferenca_absoluta\", ascending=False).first()\n",
    "\n",
    "print(dia_maior_variacao)\n"
   ]
  },
  {
   "cell_type": "code",
   "execution_count": 16,
   "metadata": {},
   "outputs": [
    {
     "name": "stdout",
     "output_type": "stream",
     "text": [
      "54047899.73550437\n"
     ]
    }
   ],
   "source": [
    "# Em média, qual o volume diário de transações das ações da AAPL?\n",
    "\n",
    "media = apple_df.select(avg(\"volume\")).first()[0]\n",
    "\n",
    "print(media)"
   ]
  },
  {
   "cell_type": "code",
   "execution_count": 17,
   "metadata": {},
   "outputs": [
    {
     "name": "stdout",
     "output_type": "stream",
     "text": [
      "+-----------+-----+\n",
      "|comprimento|count|\n",
      "+-----------+-----+\n",
      "|          1|   10|\n",
      "|          3|  323|\n",
      "|          5|    5|\n",
      "|          4|  117|\n",
      "|          2|   50|\n",
      "+-----------+-----+\n",
      "\n"
     ]
    }
   ],
   "source": [
    "# Quantas ações tem 1, 2, 3, 4 e 5 caracteres em seu nome, respectivamente?\n",
    "\n",
    "distinto = data_df.select(\"Name\").distinct()\n",
    "\n",
    "# Calcule o comprimento dos nomes e conte as ocorrências para cada comprimento\n",
    "contagem_por_comprimento = distinto.withColumn(\"comprimento\", length(col(\"Name\")))\n",
    "\n",
    "contagem_por_comprimento2 = contagem_por_comprimento.groupBy(\"comprimento\").count()\n",
    "\n",
    "contagem_por_comprimento2.show()"
   ]
  },
  {
   "cell_type": "code",
   "execution_count": 18,
   "metadata": {},
   "outputs": [
    {
     "name": "stdout",
     "output_type": "stream",
     "text": [
      "Row(Name='APTV', Qtd=92947779)\n"
     ]
    }
   ],
   "source": [
    "# Qual a ação menos negociada da bolsa, em volume de transações?\n",
    "\n",
    "group_data = data_df.groupBy(\"Name\").agg(sum(\"volume\").alias(\"Qtd\"))\n",
    "\n",
    "ordenacao_agrup = group_data.orderBy(\"Qtd\", ascending=True).first()\n",
    "\n",
    "print(ordenacao_agrup)"
   ]
  }
 ],
 "metadata": {
  "interpreter": {
   "hash": "90691cacea8cad9e395cf54f60bf62818045fb97446a4aec9d8c6dc66ce98314"
  },
  "kernelspec": {
   "display_name": "Python 3.11.4 ('guppe')",
   "language": "python",
   "name": "python3"
  },
  "language_info": {
   "codemirror_mode": {
    "name": "ipython",
    "version": 3
   },
   "file_extension": ".py",
   "mimetype": "text/x-python",
   "name": "python",
   "nbconvert_exporter": "python",
   "pygments_lexer": "ipython3",
   "version": "3.11.4"
  },
  "orig_nbformat": 4
 },
 "nbformat": 4,
 "nbformat_minor": 2
}
